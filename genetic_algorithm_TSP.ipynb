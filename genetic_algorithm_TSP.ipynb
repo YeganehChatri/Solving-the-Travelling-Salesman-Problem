{
 "cells": [
  {
   "cell_type": "code",
   "execution_count": 63,
   "metadata": {
    "scrolled": true
   },
   "outputs": [
    {
     "name": "stdout",
     "output_type": "stream",
     "text": [
      "Requirement already satisfied: numpy in /usr/local/Cellar/jupyterlab/2.2.9_1/libexec/lib/python3.9/site-packages (1.19.4)\n",
      "\u001b[33mWARNING: You are using pip version 20.2.4; however, version 20.3.3 is available.\n",
      "You should consider upgrading via the '/usr/local/Cellar/jupyterlab/2.2.9_1/libexec/bin/python -m pip install --upgrade pip' command.\u001b[0m\n"
     ]
    }
   ],
   "source": [
    "import sys\n",
    "!{sys.executable} -m pip install numpy"
   ]
  },
  {
   "cell_type": "code",
   "execution_count": 64,
   "metadata": {},
   "outputs": [
    {
     "name": "stdout",
     "output_type": "stream",
     "text": [
      "Requirement already satisfied: matplotlib in /usr/local/Cellar/jupyterlab/2.2.9_1/libexec/lib/python3.9/site-packages (3.3.3)\n",
      "Requirement already satisfied: numpy>=1.15 in /usr/local/Cellar/jupyterlab/2.2.9_1/libexec/lib/python3.9/site-packages (from matplotlib) (1.19.4)\n",
      "Requirement already satisfied: python-dateutil>=2.1 in /usr/local/Cellar/jupyterlab/2.2.9_1/libexec/lib/python3.9/site-packages (from matplotlib) (2.8.1)\n",
      "Requirement already satisfied: kiwisolver>=1.0.1 in /usr/local/Cellar/jupyterlab/2.2.9_1/libexec/lib/python3.9/site-packages (from matplotlib) (1.3.1)\n",
      "Requirement already satisfied: pyparsing!=2.0.4,!=2.1.2,!=2.1.6,>=2.0.3 in /usr/local/Cellar/jupyterlab/2.2.9_1/libexec/lib/python3.9/site-packages (from matplotlib) (2.4.7)\n",
      "Requirement already satisfied: pillow>=6.2.0 in /usr/local/Cellar/jupyterlab/2.2.9_1/libexec/lib/python3.9/site-packages (from matplotlib) (8.1.0)\n",
      "Requirement already satisfied: cycler>=0.10 in /usr/local/Cellar/jupyterlab/2.2.9_1/libexec/lib/python3.9/site-packages (from matplotlib) (0.10.0)\n",
      "Requirement already satisfied: six>=1.5 in /usr/local/Cellar/jupyterlab/2.2.9_1/libexec/lib/python3.9/site-packages (from python-dateutil>=2.1->matplotlib) (1.15.0)\n",
      "\u001b[33mWARNING: You are using pip version 20.2.4; however, version 20.3.3 is available.\n",
      "You should consider upgrading via the '/usr/local/Cellar/jupyterlab/2.2.9_1/libexec/bin/python -m pip install --upgrade pip' command.\u001b[0m\n"
     ]
    }
   ],
   "source": [
    "import sys\n",
    "!{sys.executable} -m pip install matplotlib"
   ]
  },
  {
   "cell_type": "code",
   "execution_count": 83,
   "metadata": {},
   "outputs": [],
   "source": [
    "import numpy as np, random, operator, pandas as pd, matplotlib.pyplot as plt"
   ]
  },
  {
   "cell_type": "markdown",
   "metadata": {},
   "source": [
    "## Create necessary classes and functions"
   ]
  },
  {
   "cell_type": "code",
   "execution_count": 84,
   "metadata": {},
   "outputs": [],
   "source": [
    "class City:\n",
    "    def __init__(self, x, y):\n",
    "        self.x = x\n",
    "        self.y = y\n",
    "    \n",
    "    def distance(self, city):\n",
    "        xDis = abs(self.x - city.x)\n",
    "        yDis = abs(self.y - city.y)\n",
    "        distance = np.sqrt((xDis ** 2) + (yDis ** 2))\n",
    "        return distance\n",
    "    \n",
    "    def __repr__(self):\n",
    "        return \"(\" + str(self.x) + \",\" + str(self.y) + \")\""
   ]
  },
  {
   "cell_type": "markdown",
   "metadata": {},
   "source": [
    "Create a fitness function"
   ]
  },
  {
   "cell_type": "code",
   "execution_count": 85,
   "metadata": {},
   "outputs": [],
   "source": [
    "class Fitness:\n",
    "    def __init__(self, route):\n",
    "        self.route = route\n",
    "        self.distance = 0\n",
    "        self.fitness= 0.0\n",
    "    \n",
    "    def routeDistance(self):\n",
    "        if self.distance ==0:\n",
    "            pathDistance = 0\n",
    "            for i in range(0, len(self.route)):\n",
    "                fromCity = self.route[i]\n",
    "                toCity = None\n",
    "                if i + 1 < len(self.route):\n",
    "                    toCity = self.route[i + 1]\n",
    "                else:\n",
    "                    toCity = self.route[0]\n",
    "                pathDistance += fromCity.distance(toCity)\n",
    "            self.distance = pathDistance\n",
    "        return self.distance\n",
    "    \n",
    "    def routeFitness(self):\n",
    "        if self.fitness == 0:\n",
    "            self.fitness = 1 / float(self.routeDistance())\n",
    "        return self.fitness"
   ]
  },
  {
   "cell_type": "markdown",
   "metadata": {},
   "source": [
    "## Create our initial population"
   ]
  },
  {
   "cell_type": "markdown",
   "metadata": {},
   "source": [
    "Route generator"
   ]
  },
  {
   "cell_type": "code",
   "execution_count": 86,
   "metadata": {},
   "outputs": [],
   "source": [
    "def createRoute(cityList):\n",
    "    route = random.sample(cityList, len(cityList))\n",
    "    return route"
   ]
  },
  {
   "cell_type": "markdown",
   "metadata": {},
   "source": [
    "Create first \"population\" (list of routes)"
   ]
  },
  {
   "cell_type": "code",
   "execution_count": 87,
   "metadata": {},
   "outputs": [],
   "source": [
    "def initialPopulation(popSize, cityList):\n",
    "    population = []\n",
    "\n",
    "    for i in range(0, popSize):\n",
    "        population.append(createRoute(cityList))\n",
    "    return population"
   ]
  },
  {
   "cell_type": "markdown",
   "metadata": {},
   "source": [
    "## Create the genetic algorithm"
   ]
  },
  {
   "cell_type": "markdown",
   "metadata": {},
   "source": [
    "Rank individuals"
   ]
  },
  {
   "cell_type": "code",
   "execution_count": 88,
   "metadata": {},
   "outputs": [],
   "source": [
    "def rankRoutes(population):\n",
    "    fitnessResults = {}\n",
    "    for i in range(0,len(population)):\n",
    "        fitnessResults[i] = Fitness(population[i]).routeFitness()\n",
    "    return sorted(fitnessResults.items(), key = operator.itemgetter(1), reverse = True)"
   ]
  },
  {
   "cell_type": "markdown",
   "metadata": {},
   "source": [
    "Create a selection function that will be used to make the list of parent routes"
   ]
  },
  {
   "cell_type": "code",
   "execution_count": 89,
   "metadata": {},
   "outputs": [],
   "source": [
    "def selection(popRanked, eliteSize):\n",
    "    selectionResults = []\n",
    "    df = pd.DataFrame(np.array(popRanked), columns=[\"Index\",\"Fitness\"])\n",
    "    df['cum_sum'] = df.Fitness.cumsum()\n",
    "    df['cum_perc'] = 100*df.cum_sum/df.Fitness.sum()\n",
    "    \n",
    "    for i in range(0, eliteSize):\n",
    "        selectionResults.append(popRanked[i][0])\n",
    "    for i in range(0, len(popRanked) - eliteSize):\n",
    "        pick = 100*random.random()\n",
    "        for i in range(0, len(popRanked)):\n",
    "            if pick <= df.iat[i,3]:\n",
    "                selectionResults.append(popRanked[i][0])\n",
    "                break\n",
    "    return selectionResults"
   ]
  },
  {
   "cell_type": "markdown",
   "metadata": {},
   "source": [
    "Create mating pool"
   ]
  },
  {
   "cell_type": "code",
   "execution_count": 90,
   "metadata": {},
   "outputs": [],
   "source": [
    "def matingPool(population, selectionResults):\n",
    "    matingpool = []\n",
    "    for i in range(0, len(selectionResults)):\n",
    "        index = selectionResults[i]\n",
    "        matingpool.append(population[index])\n",
    "    return matingpool"
   ]
  },
  {
   "cell_type": "markdown",
   "metadata": {},
   "source": [
    "Create a crossover function for two parents to create one child"
   ]
  },
  {
   "cell_type": "code",
   "execution_count": 91,
   "metadata": {},
   "outputs": [],
   "source": [
    "def breed(parent1, parent2):\n",
    "    child = []\n",
    "    childP1 = []\n",
    "    childP2 = []\n",
    "    \n",
    "    geneA = int(random.random() * len(parent1))\n",
    "    geneB = int(random.random() * len(parent1))\n",
    "    \n",
    "    startGene = min(geneA, geneB)\n",
    "    endGene = max(geneA, geneB)\n",
    "\n",
    "    for i in range(startGene, endGene):\n",
    "        childP1.append(parent1[i])\n",
    "        \n",
    "    childP2 = [item for item in parent2 if item not in childP1]\n",
    "\n",
    "    child = childP1 + childP2\n",
    "    return child"
   ]
  },
  {
   "cell_type": "markdown",
   "metadata": {},
   "source": [
    "Create function to run crossover over full mating pool"
   ]
  },
  {
   "cell_type": "code",
   "execution_count": 92,
   "metadata": {},
   "outputs": [],
   "source": [
    "def breedPopulation(matingpool, eliteSize):\n",
    "    children = []\n",
    "    length = len(matingpool) - eliteSize\n",
    "    pool = random.sample(matingpool, len(matingpool))\n",
    "\n",
    "    for i in range(0,eliteSize):\n",
    "        children.append(matingpool[i])\n",
    "    \n",
    "    for i in range(0, length):\n",
    "        child = breed(pool[i], pool[len(matingpool)-i-1])\n",
    "        children.append(child)\n",
    "    return children"
   ]
  },
  {
   "cell_type": "markdown",
   "metadata": {},
   "source": [
    "Create function to mutate a single route"
   ]
  },
  {
   "cell_type": "code",
   "execution_count": 93,
   "metadata": {},
   "outputs": [],
   "source": [
    "def mutate(individual, mutationRate):\n",
    "    for swapped in range(len(individual)):\n",
    "        if(random.random() < mutationRate):\n",
    "            swapWith = int(random.random() * len(individual))\n",
    "            \n",
    "            city1 = individual[swapped]\n",
    "            city2 = individual[swapWith]\n",
    "            \n",
    "            individual[swapped] = city2\n",
    "            individual[swapWith] = city1\n",
    "    return individual"
   ]
  },
  {
   "cell_type": "markdown",
   "metadata": {},
   "source": [
    "Create function to run mutation over entire population"
   ]
  },
  {
   "cell_type": "code",
   "execution_count": 94,
   "metadata": {},
   "outputs": [],
   "source": [
    "def mutatePopulation(population, mutationRate):\n",
    "    mutatedPop = []\n",
    "    \n",
    "    for ind in range(0, len(population)):\n",
    "        mutatedInd = mutate(population[ind], mutationRate)\n",
    "        mutatedPop.append(mutatedInd)\n",
    "    return mutatedPop"
   ]
  },
  {
   "cell_type": "markdown",
   "metadata": {},
   "source": [
    "Put all steps together to create the next generation"
   ]
  },
  {
   "cell_type": "code",
   "execution_count": 95,
   "metadata": {},
   "outputs": [],
   "source": [
    "def nextGeneration(currentGen, eliteSize, mutationRate):\n",
    "    popRanked = rankRoutes(currentGen)\n",
    "    selectionResults = selection(popRanked, eliteSize)\n",
    "    matingpool = matingPool(currentGen, selectionResults)\n",
    "    children = breedPopulation(matingpool, eliteSize)\n",
    "    nextGeneration = mutatePopulation(children, mutationRate)\n",
    "    return nextGeneration"
   ]
  },
  {
   "cell_type": "markdown",
   "metadata": {},
   "source": [
    "Final step: create the genetic algorithm"
   ]
  },
  {
   "cell_type": "code",
   "execution_count": 96,
   "metadata": {},
   "outputs": [],
   "source": [
    "def geneticAlgorithm(population, popSize, eliteSize, mutationRate, generations):\n",
    "    pop = initialPopulation(popSize, population)\n",
    "    print(\"Initial distance: \" + str(1 / rankRoutes(pop)[0][1]))\n",
    "    \n",
    "    for i in range(0, generations):\n",
    "        pop = nextGeneration(pop, eliteSize, mutationRate)\n",
    "    \n",
    "    print(\"Final distance: \" + str(1 / rankRoutes(pop)[0][1]))\n",
    "    bestRouteIndex = rankRoutes(pop)[0][0]\n",
    "    bestRoute = pop[bestRouteIndex]\n",
    "    return bestRoute"
   ]
  },
  {
   "cell_type": "markdown",
   "metadata": {},
   "source": [
    "## Running the genetic algorithm"
   ]
  },
  {
   "cell_type": "markdown",
   "metadata": {},
   "source": [
    "Create list of cities"
   ]
  },
  {
   "cell_type": "code",
   "execution_count": 146,
   "metadata": {},
   "outputs": [],
   "source": [
    "cityList = []\n",
    "\n",
    "for i in range(0,500):\n",
    "    cityList.append(City(x=int(random.random() * 200), y=int(random.random() * 200)))"
   ]
  },
  {
   "cell_type": "markdown",
   "metadata": {},
   "source": [
    "Run the genetic algorithm"
   ]
  },
  {
   "cell_type": "code",
   "execution_count": 147,
   "metadata": {},
   "outputs": [
    {
     "name": "stdout",
     "output_type": "stream",
     "text": [
      "Initial distance: 50361.70902573344\n",
      "Final distance: 20184.173433414104\n"
     ]
    },
    {
     "data": {
      "text/plain": [
       "[(123,156),\n",
       " (79,181),\n",
       " (128,165),\n",
       " (175,198),\n",
       " (196,177),\n",
       " (164,188),\n",
       " (169,117),\n",
       " (185,133),\n",
       " (190,94),\n",
       " (189,118),\n",
       " (176,140),\n",
       " (173,132),\n",
       " (146,146),\n",
       " (174,193),\n",
       " (179,198),\n",
       " (159,126),\n",
       " (77,100),\n",
       " (114,121),\n",
       " (157,132),\n",
       " (156,171),\n",
       " (132,158),\n",
       " (146,181),\n",
       " (190,61),\n",
       " (166,52),\n",
       " (145,52),\n",
       " (102,33),\n",
       " (91,57),\n",
       " (67,86),\n",
       " (87,102),\n",
       " (77,18),\n",
       " (119,38),\n",
       " (77,35),\n",
       " (110,16),\n",
       " (131,42),\n",
       " (118,20),\n",
       " (176,13),\n",
       " (188,42),\n",
       " (141,12),\n",
       " (135,43),\n",
       " (138,19),\n",
       " (110,52),\n",
       " (127,27),\n",
       " (113,7),\n",
       " (153,9),\n",
       " (172,37),\n",
       " (136,27),\n",
       " (180,0),\n",
       " (148,13),\n",
       " (86,14),\n",
       " (157,57),\n",
       " (144,43),\n",
       " (138,22),\n",
       " (145,61),\n",
       " (111,44),\n",
       " (94,62),\n",
       " (127,42),\n",
       " (46,104),\n",
       " (52,76),\n",
       " (83,101),\n",
       " (113,126),\n",
       " (48,162),\n",
       " (86,166),\n",
       " (101,151),\n",
       " (83,185),\n",
       " (54,187),\n",
       " (77,189),\n",
       " (29,164),\n",
       " (34,117),\n",
       " (63,18),\n",
       " (22,43),\n",
       " (28,48),\n",
       " (87,55),\n",
       " (70,165),\n",
       " (95,184),\n",
       " (56,186),\n",
       " (55,193),\n",
       " (110,186),\n",
       " (151,195),\n",
       " (180,175),\n",
       " (107,198),\n",
       " (143,149),\n",
       " (101,137),\n",
       " (131,117),\n",
       " (140,143),\n",
       " (109,146),\n",
       " (111,150),\n",
       " (99,141),\n",
       " (68,109),\n",
       " (70,102),\n",
       " (52,113),\n",
       " (76,103),\n",
       " (68,67),\n",
       " (65,137),\n",
       " (52,152),\n",
       " (81,137),\n",
       " (105,160),\n",
       " (85,92),\n",
       " (70,77),\n",
       " (72,88),\n",
       " (45,127),\n",
       " (6,67),\n",
       " (47,57),\n",
       " (51,62),\n",
       " (43,57),\n",
       " (71,28),\n",
       " (37,68),\n",
       " (67,90),\n",
       " (47,104),\n",
       " (58,73),\n",
       " (42,23),\n",
       " (56,55),\n",
       " (72,9),\n",
       " (8,15),\n",
       " (37,64),\n",
       " (16,168),\n",
       " (15,163),\n",
       " (29,145),\n",
       " (26,94),\n",
       " (32,116),\n",
       " (61,130),\n",
       " (170,151),\n",
       " (141,175),\n",
       " (136,101),\n",
       " (129,106),\n",
       " (142,111),\n",
       " (166,96),\n",
       " (149,122),\n",
       " (181,109),\n",
       " (181,117),\n",
       " (175,177),\n",
       " (171,187),\n",
       " (193,112),\n",
       " (146,79),\n",
       " (154,72),\n",
       " (146,39),\n",
       " (153,39),\n",
       " (152,15),\n",
       " (182,19),\n",
       " (198,124),\n",
       " (177,88),\n",
       " (165,9),\n",
       " (186,55),\n",
       " (198,43),\n",
       " (167,72),\n",
       " (146,51),\n",
       " (129,47),\n",
       " (162,48),\n",
       " (184,96),\n",
       " (194,77),\n",
       " (182,83),\n",
       " (174,78),\n",
       " (158,119),\n",
       " (172,164),\n",
       " (160,155),\n",
       " (157,160),\n",
       " (155,183),\n",
       " (137,155),\n",
       " (105,154),\n",
       " (80,147),\n",
       " (72,136),\n",
       " (94,150),\n",
       " (138,174),\n",
       " (107,179),\n",
       " (96,117),\n",
       " (60,13),\n",
       " (53,24),\n",
       " (33,30),\n",
       " (8,114),\n",
       " (28,189),\n",
       " (83,189),\n",
       " (95,189),\n",
       " (78,199),\n",
       " (97,196),\n",
       " (104,127),\n",
       " (123,126),\n",
       " (180,21),\n",
       " (129,28),\n",
       " (196,23),\n",
       " (194,47),\n",
       " (192,41),\n",
       " (169,71),\n",
       " (199,18),\n",
       " (145,96),\n",
       " (174,163),\n",
       " (149,187),\n",
       " (130,182),\n",
       " (103,164),\n",
       " (40,176),\n",
       " (9,134),\n",
       " (8,171),\n",
       " (29,177),\n",
       " (4,175),\n",
       " (69,189),\n",
       " (71,123),\n",
       " (61,119),\n",
       " (59,87),\n",
       " (73,88),\n",
       " (72,59),\n",
       " (84,66),\n",
       " (100,78),\n",
       " (155,114),\n",
       " (185,89),\n",
       " (166,106),\n",
       " (195,109),\n",
       " (162,38),\n",
       " (178,60),\n",
       " (150,37),\n",
       " (189,48),\n",
       " (146,42),\n",
       " (113,5),\n",
       " (176,11),\n",
       " (162,22),\n",
       " (105,10),\n",
       " (126,0),\n",
       " (137,16),\n",
       " (118,27),\n",
       " (64,10),\n",
       " (111,27),\n",
       " (166,25),\n",
       " (106,6),\n",
       " (71,0),\n",
       " (84,50),\n",
       " (90,47),\n",
       " (86,75),\n",
       " (33,33),\n",
       " (38,25),\n",
       " (32,81),\n",
       " (49,94),\n",
       " (78,107),\n",
       " (88,101),\n",
       " (83,106),\n",
       " (98,9),\n",
       " (145,14),\n",
       " (118,10),\n",
       " (112,2),\n",
       " (142,42),\n",
       " (135,62),\n",
       " (141,53),\n",
       " (191,17),\n",
       " (199,60),\n",
       " (199,32),\n",
       " (169,23),\n",
       " (170,70),\n",
       " (152,33),\n",
       " (118,18),\n",
       " (95,27),\n",
       " (62,144),\n",
       " (5,151),\n",
       " (10,107),\n",
       " (14,81),\n",
       " (7,124),\n",
       " (62,178),\n",
       " (91,176),\n",
       " (124,192),\n",
       " (180,192),\n",
       " (175,180),\n",
       " (152,127),\n",
       " (128,137),\n",
       " (145,128),\n",
       " (178,109),\n",
       " (194,110),\n",
       " (194,54),\n",
       " (182,76),\n",
       " (107,85),\n",
       " (109,90),\n",
       " (75,99),\n",
       " (118,148),\n",
       " (95,151),\n",
       " (129,195),\n",
       " (187,195),\n",
       " (136,162),\n",
       " (144,107),\n",
       " (149,104),\n",
       " (115,143),\n",
       " (101,150),\n",
       " (57,135),\n",
       " (34,111),\n",
       " (6,169),\n",
       " (66,186),\n",
       " (115,156),\n",
       " (121,180),\n",
       " (61,160),\n",
       " (43,110),\n",
       " (55,124),\n",
       " (84,153),\n",
       " (81,136),\n",
       " (90,113),\n",
       " (106,114),\n",
       " (101,116),\n",
       " (121,161),\n",
       " (130,108),\n",
       " (188,95),\n",
       " (192,101),\n",
       " (192,126),\n",
       " (163,133),\n",
       " (110,177),\n",
       " (128,171),\n",
       " (101,189),\n",
       " (73,199),\n",
       " (81,118),\n",
       " (108,111),\n",
       " (144,128),\n",
       " (76,131),\n",
       " (2,96),\n",
       " (17,107),\n",
       " (24,80),\n",
       " (40,63),\n",
       " (30,92),\n",
       " (9,31),\n",
       " (30,44),\n",
       " (0,55),\n",
       " (7,80),\n",
       " (22,46),\n",
       " (24,114),\n",
       " (60,128),\n",
       " (77,166),\n",
       " (42,161),\n",
       " (27,87),\n",
       " (20,94),\n",
       " (75,77),\n",
       " (111,94),\n",
       " (79,78),\n",
       " (47,62),\n",
       " (49,55),\n",
       " (46,20),\n",
       " (28,26),\n",
       " (92,9),\n",
       " (91,52),\n",
       " (73,60),\n",
       " (28,82),\n",
       " (61,54),\n",
       " (100,11),\n",
       " (72,43),\n",
       " (69,66),\n",
       " (62,63),\n",
       " (103,124),\n",
       " (89,125),\n",
       " (72,177),\n",
       " (33,182),\n",
       " (13,179),\n",
       " (21,169),\n",
       " (8,187),\n",
       " (21,138),\n",
       " (75,171),\n",
       " (49,169),\n",
       " (49,163),\n",
       " (42,152),\n",
       " (12,154),\n",
       " (30,141),\n",
       " (25,148),\n",
       " (18,81),\n",
       " (0,37),\n",
       " (43,39),\n",
       " (20,15),\n",
       " (47,38),\n",
       " (78,9),\n",
       " (50,40),\n",
       " (9,100),\n",
       " (25,170),\n",
       " (79,191),\n",
       " (77,157),\n",
       " (56,134),\n",
       " (112,126),\n",
       " (165,142),\n",
       " (182,93),\n",
       " (183,96),\n",
       " (172,62),\n",
       " (179,31),\n",
       " (62,2),\n",
       " (21,30),\n",
       " (66,72),\n",
       " (112,88),\n",
       " (124,126),\n",
       " (189,75),\n",
       " (159,15),\n",
       " (51,42),\n",
       " (61,73),\n",
       " (53,62),\n",
       " (18,16),\n",
       " (9,7),\n",
       " (19,41),\n",
       " (10,52),\n",
       " (5,65),\n",
       " (9,35),\n",
       " (4,44),\n",
       " (2,77),\n",
       " (5,29),\n",
       " (42,48),\n",
       " (7,86),\n",
       " (20,60),\n",
       " (53,43),\n",
       " (53,67),\n",
       " (64,91),\n",
       " (79,84),\n",
       " (100,90),\n",
       " (88,45),\n",
       " (100,29),\n",
       " (61,22),\n",
       " (76,10),\n",
       " (68,4),\n",
       " (144,26),\n",
       " (175,38),\n",
       " (197,68),\n",
       " (195,85),\n",
       " (167,128),\n",
       " (186,120),\n",
       " (165,108),\n",
       " (191,72),\n",
       " (170,85),\n",
       " (185,121),\n",
       " (186,106),\n",
       " (178,138),\n",
       " (168,147),\n",
       " (148,51),\n",
       " (171,32),\n",
       " (112,25),\n",
       " (135,2),\n",
       " (155,14),\n",
       " (113,18),\n",
       " (13,38),\n",
       " (20,22),\n",
       " (16,2),\n",
       " (16,44),\n",
       " (3,10),\n",
       " (3,21),\n",
       " (39,71),\n",
       " (48,63),\n",
       " (11,195),\n",
       " (33,199),\n",
       " (13,165),\n",
       " (107,186),\n",
       " (63,188),\n",
       " (70,180),\n",
       " (12,190),\n",
       " (1,168),\n",
       " (24,140),\n",
       " (11,190),\n",
       " (12,163),\n",
       " (0,154),\n",
       " (0,122),\n",
       " (56,107),\n",
       " (84,117),\n",
       " (140,132),\n",
       " (169,120),\n",
       " (124,118),\n",
       " (74,76),\n",
       " (60,108),\n",
       " (55,59),\n",
       " (31,64),\n",
       " (6,64),\n",
       " (7,35),\n",
       " (55,29),\n",
       " (17,46),\n",
       " (4,163),\n",
       " (1,150),\n",
       " (54,148),\n",
       " (82,146),\n",
       " (49,181),\n",
       " (59,182),\n",
       " (125,196),\n",
       " (154,108),\n",
       " (157,126),\n",
       " (164,130),\n",
       " (123,94),\n",
       " (91,117),\n",
       " (161,112),\n",
       " (161,157),\n",
       " (179,164),\n",
       " (110,191),\n",
       " (58,199),\n",
       " (99,121),\n",
       " (186,151),\n",
       " (137,166),\n",
       " (149,160),\n",
       " (130,170),\n",
       " (153,143),\n",
       " (151,132),\n",
       " (68,166),\n",
       " (3,126),\n",
       " (9,141),\n",
       " (35,178),\n",
       " (58,182),\n",
       " (118,196),\n",
       " (92,185),\n",
       " (135,130),\n",
       " (131,150),\n",
       " (148,164),\n",
       " (152,168),\n",
       " (110,194),\n",
       " (95,192),\n",
       " (140,161),\n",
       " (141,190),\n",
       " (125,145),\n",
       " (135,87),\n",
       " (185,62),\n",
       " (191,64),\n",
       " (193,113),\n",
       " (179,165),\n",
       " (153,144),\n",
       " (116,143)]"
      ]
     },
     "execution_count": 147,
     "metadata": {},
     "output_type": "execute_result"
    }
   ],
   "source": [
    "geneticAlgorithm(population=cityList, popSize=100, eliteSize=20, mutationRate=0.0001, generations=1000)"
   ]
  },
  {
   "cell_type": "markdown",
   "metadata": {},
   "source": [
    "## Plot the progress"
   ]
  },
  {
   "cell_type": "markdown",
   "metadata": {},
   "source": [
    "Note, this will win run a separate GA"
   ]
  },
  {
   "cell_type": "code",
   "execution_count": 148,
   "metadata": {},
   "outputs": [],
   "source": [
    "def geneticAlgorithmPlot(population, popSize, eliteSize, mutationRate, generations):\n",
    "    pop = initialPopulation(popSize, population)\n",
    "    progress = []\n",
    "    progress.append(1 / rankRoutes(pop)[0][1])\n",
    "    \n",
    "    for i in range(0, generations):\n",
    "        pop = nextGeneration(pop, eliteSize, mutationRate)\n",
    "        progress.append(1 / rankRoutes(pop)[0][1])\n",
    "    \n",
    "    plt.plot(progress)\n",
    "    plt.ylabel('Distance')\n",
    "    plt.xlabel('Generation')\n",
    "    plt.show()"
   ]
  },
  {
   "cell_type": "markdown",
   "metadata": {},
   "source": [
    "Run the function with our assumptions to see how distance has improved in each generation"
   ]
  },
  {
   "cell_type": "code",
   "execution_count": 149,
   "metadata": {
    "scrolled": true
   },
   "outputs": [
    {
     "data": {
      "image/png": "[encoded data removed]",
      "text/plain": [
       "<Figure size 432x288 with 1 Axes>"
      ]
     },
     "metadata": {
      "needs_background": "light"
     },
     "output_type": "display_data"
    }
   ],
   "source": [
    "geneticAlgorithmPlot(population=cityList, popSize=100, eliteSize=20, mutationRate=0.0001, generations=1000)"
   ]
  },
  {
   "cell_type": "code",
   "execution_count": null,
   "metadata": {},
   "outputs": [],
   "source": []
  }
 ],
 "metadata": {
  "kernelspec": {
   "display_name": "Python 3",
   "language": "python",
   "name": "python3"
  },
  "language_info": {
   "codemirror_mode": {
    "name": "ipython",
    "version": 3
   },
   "file_extension": ".py",
   "mimetype": "text/x-python",
   "name": "python",
   "nbconvert_exporter": "python",
   "pygments_lexer": "ipython3",
   "version": "3.9.0"
  }
 },
 "nbformat": 4,
 "nbformat_minor": 2
}
