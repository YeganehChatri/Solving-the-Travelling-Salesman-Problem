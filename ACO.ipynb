{
 "cells": [
  {
   "cell_type": "code",
   "execution_count": 5,
   "metadata": {},
   "outputs": [],
   "source": [
    "import numpy as np"
   ]
  },
  {
   "cell_type": "code",
   "execution_count": 6,
   "metadata": {},
   "outputs": [],
   "source": [
    "class ACA_TSP:\n",
    "    def __init__(self, func, n_dim,\n",
    "                 size_pop=10, max_iter=20,\n",
    "                 distance_matrix=None,\n",
    "                 alpha=1, beta=2, rho=0.1,\n",
    "                 ):\n",
    "        self.func = func\n",
    "        self.n_dim = n_dim  \n",
    "        self.size_pop = size_pop  \n",
    "        self.max_iter = max_iter  \n",
    "        self.alpha = alpha  \n",
    "        self.beta = beta  \n",
    "        self.rho = rho  \n",
    "\n",
    "        self.prob_matrix_distance = 1 / (distance_matrix + 1e-10 * np.eye(n_dim, n_dim))  \n",
    "\n",
    "        self.Tau = np.ones((n_dim, n_dim))  \n",
    "        self.Table = np.zeros((size_pop, n_dim)).astype(np.int)  \n",
    "        self.y = None  \n",
    "        self.generation_best_X, self.generation_best_Y = [], []  \n",
    "        self.x_best_history, self.y_best_history = self.generation_best_X, self.generation_best_Y  \n",
    "        self.best_x, self.best_y = None, None\n",
    "\n",
    "    def run(self, max_iter=None):\n",
    "        self.max_iter = max_iter or self.max_iter\n",
    "        for i in range(self.max_iter):  \n",
    "            prob_matrix = (self.Tau ** self.alpha) * (self.prob_matrix_distance) ** self.beta  \n",
    "            for j in range(self.size_pop):  \n",
    "                self.Table[j, 0] = 0  \n",
    "                for k in range(self.n_dim - 1):  \n",
    "                    taboo_set = set(self.Table[j, :k + 1])  \n",
    "                    allow_list = list(set(range(self.n_dim)) - taboo_set)  \n",
    "                    prob = prob_matrix[self.Table[j, k], allow_list]\n",
    "                    prob = prob / prob.sum() \n",
    "                    next_point = np.random.choice(allow_list, size=1, p=prob)[0]\n",
    "                    self.Table[j, k + 1] = next_point\n",
    "\n",
    "           \n",
    "            y = np.array([self.func(i) for i in self.Table])\n",
    "\n",
    "            \n",
    "            index_best = y.argmin()\n",
    "            x_best, y_best = self.Table[index_best, :].copy(), y[index_best].copy()\n",
    "            self.generation_best_X.append(x_best)\n",
    "            self.generation_best_Y.append(y_best)\n",
    "\n",
    "            \n",
    "            delta_tau = np.zeros((self.n_dim, self.n_dim))\n",
    "            for j in range(self.size_pop): \n",
    "                for k in range(self.n_dim - 1): \n",
    "                    n1, n2 = self.Table[j, k], self.Table[j, k + 1]  \n",
    "                    delta_tau[n1, n2] += 1 / y[j]  \n",
    "                n1, n2 = self.Table[j, self.n_dim - 1], self.Table[j, 0]  \n",
    "                delta_tau[n1, n2] += 1 / y[j] \n",
    "\n",
    "           \n",
    "            self.Tau = (1 - self.rho) * self.Tau + delta_tau\n",
    "\n",
    "        best_generation = np.array(self.generation_best_Y).argmin()\n",
    "        self.best_x = self.generation_best_X[best_generation]\n",
    "        self.best_y = self.generation_best_Y[best_generation]\n",
    "        return self.best_x, self.best_y\n",
    "\n",
    "    fit = run"
   ]
  },
  {
   "cell_type": "code",
   "execution_count": null,
   "metadata": {},
   "outputs": [],
   "source": []
  },
  {
   "cell_type": "code",
   "execution_count": null,
   "metadata": {},
   "outputs": [],
   "source": []
  }
 ],
 "metadata": {
  "kernelspec": {
   "display_name": "Python 3",
   "language": "python",
   "name": "python3"
  },
  "language_info": {
   "codemirror_mode": {
    "name": "ipython",
    "version": 3
   },
   "file_extension": ".py",
   "mimetype": "text/x-python",
   "name": "python",
   "nbconvert_exporter": "python",
   "pygments_lexer": "ipython3",
   "version": "3.9.0"
  }
 },
 "nbformat": 4,
 "nbformat_minor": 4
}
